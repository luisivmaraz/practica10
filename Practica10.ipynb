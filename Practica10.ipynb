{
 "cells": [
  {
   "cell_type": "markdown",
   "id": "86567412",
   "metadata": {},
   "source": [
    "<div align=\"center\">\n",
    "\n",
    "<table>\n",
    "  <tr>\n",
    "    <td><img src=\"./imgs/logo.jpg\" alt=\" Logo\" width=\"170\" /></td>\n",
    "\n",
    "  </tr>\n",
    "</table>\n",
    "\n",
    "---\n",
    "\n",
    "# **Practica 10**\n",
    "\n",
    "<br>\n",
    "\n",
    "## **Materia:**  \n",
    "### Extracción de Conocimientos de Bases de Datos\n",
    "\n",
    "<br>\n",
    "\n",
    "## **Docente:**  \n",
    "### Marco Antonio Ramírez Hernández\n",
    "\n",
    "<br>\n",
    "\n",
    "## **Estudiante:**  \n",
    "### Luis Iván Márquez Azuara\n",
    "\n",
    "<br>\n",
    "\n",
    "## **Matrícula:**  \n",
    "### 220401\n",
    "\n",
    "<br>\n",
    "\n",
    "## **Carrera:**  \n",
    "### Ingeniería en Desarrollo y Gestión de Software (IDGS)\n",
    "\n",
    "<br>\n",
    "\n",
    "## **Grado y Grupo:**  \n",
    "### 9° A\n",
    "\n",
    "<br>\n",
    "\n",
    "---\n",
    "\n",
    "</div>"
   ]
  },
  {
   "cell_type": "code",
   "execution_count": 2,
   "id": "2aba5ed0",
   "metadata": {},
   "outputs": [],
   "source": [
    "import pandas as pd\n",
    "import numpy as np\n",
    "import seaborn as sb\n",
    "import sklearn as sl\n",
    "import matplotlib as mpl"
   ]
  },
  {
   "cell_type": "markdown",
   "id": "3082b186",
   "metadata": {},
   "source": [
    "### 1 - Crea el dataframe con el dataset cargadp"
   ]
  },
  {
   "cell_type": "code",
   "execution_count": 3,
   "id": "6021e53d",
   "metadata": {},
   "outputs": [],
   "source": [
    "df_amazon_products = pd.read_csv(\"amazon_products.csv\", low_memory=False)"
   ]
  },
  {
   "cell_type": "code",
   "execution_count": 4,
   "id": "06976131",
   "metadata": {},
   "outputs": [
    {
     "data": {
      "text/html": [
       "<div>\n",
       "<style scoped>\n",
       "    .dataframe tbody tr th:only-of-type {\n",
       "        vertical-align: middle;\n",
       "    }\n",
       "\n",
       "    .dataframe tbody tr th {\n",
       "        vertical-align: top;\n",
       "    }\n",
       "\n",
       "    .dataframe thead th {\n",
       "        text-align: right;\n",
       "    }\n",
       "</style>\n",
       "<table border=\"1\" class=\"dataframe\">\n",
       "  <thead>\n",
       "    <tr style=\"text-align: right;\">\n",
       "      <th></th>\n",
       "      <th>name</th>\n",
       "      <th>brand</th>\n",
       "      <th>categories</th>\n",
       "      <th>reviews.rating</th>\n",
       "      <th>reviews.numHelpful</th>\n",
       "    </tr>\n",
       "  </thead>\n",
       "  <tbody>\n",
       "    <tr>\n",
       "      <th>0</th>\n",
       "      <td>All-New Fire HD 8 Tablet, 8 HD Display, Wi-Fi,...</td>\n",
       "      <td>Amazon</td>\n",
       "      <td>Electronics,iPad &amp; Tablets,All Tablets,Fire Ta...</td>\n",
       "      <td>5.0</td>\n",
       "      <td>0.0</td>\n",
       "    </tr>\n",
       "    <tr>\n",
       "      <th>1</th>\n",
       "      <td>All-New Fire HD 8 Tablet, 8 HD Display, Wi-Fi,...</td>\n",
       "      <td>Amazon</td>\n",
       "      <td>Electronics,iPad &amp; Tablets,All Tablets,Fire Ta...</td>\n",
       "      <td>5.0</td>\n",
       "      <td>0.0</td>\n",
       "    </tr>\n",
       "    <tr>\n",
       "      <th>2</th>\n",
       "      <td>All-New Fire HD 8 Tablet, 8 HD Display, Wi-Fi,...</td>\n",
       "      <td>Amazon</td>\n",
       "      <td>Electronics,iPad &amp; Tablets,All Tablets,Fire Ta...</td>\n",
       "      <td>5.0</td>\n",
       "      <td>0.0</td>\n",
       "    </tr>\n",
       "    <tr>\n",
       "      <th>3</th>\n",
       "      <td>All-New Fire HD 8 Tablet, 8 HD Display, Wi-Fi,...</td>\n",
       "      <td>Amazon</td>\n",
       "      <td>Electronics,iPad &amp; Tablets,All Tablets,Fire Ta...</td>\n",
       "      <td>4.0</td>\n",
       "      <td>0.0</td>\n",
       "    </tr>\n",
       "    <tr>\n",
       "      <th>4</th>\n",
       "      <td>All-New Fire HD 8 Tablet, 8 HD Display, Wi-Fi,...</td>\n",
       "      <td>Amazon</td>\n",
       "      <td>Electronics,iPad &amp; Tablets,All Tablets,Fire Ta...</td>\n",
       "      <td>5.0</td>\n",
       "      <td>0.0</td>\n",
       "    </tr>\n",
       "  </tbody>\n",
       "</table>\n",
       "</div>"
      ],
      "text/plain": [
       "                                                name   brand  \\\n",
       "0  All-New Fire HD 8 Tablet, 8 HD Display, Wi-Fi,...  Amazon   \n",
       "1  All-New Fire HD 8 Tablet, 8 HD Display, Wi-Fi,...  Amazon   \n",
       "2  All-New Fire HD 8 Tablet, 8 HD Display, Wi-Fi,...  Amazon   \n",
       "3  All-New Fire HD 8 Tablet, 8 HD Display, Wi-Fi,...  Amazon   \n",
       "4  All-New Fire HD 8 Tablet, 8 HD Display, Wi-Fi,...  Amazon   \n",
       "\n",
       "                                          categories  reviews.rating  \\\n",
       "0  Electronics,iPad & Tablets,All Tablets,Fire Ta...             5.0   \n",
       "1  Electronics,iPad & Tablets,All Tablets,Fire Ta...             5.0   \n",
       "2  Electronics,iPad & Tablets,All Tablets,Fire Ta...             5.0   \n",
       "3  Electronics,iPad & Tablets,All Tablets,Fire Ta...             4.0   \n",
       "4  Electronics,iPad & Tablets,All Tablets,Fire Ta...             5.0   \n",
       "\n",
       "   reviews.numHelpful  \n",
       "0                 0.0  \n",
       "1                 0.0  \n",
       "2                 0.0  \n",
       "3                 0.0  \n",
       "4                 0.0  "
      ]
     },
     "execution_count": 4,
     "metadata": {},
     "output_type": "execute_result"
    }
   ],
   "source": [
    "df_amazon_products[['name','brand','categories','reviews.rating','reviews.numHelpful']].head()"
   ]
  },
  {
   "cell_type": "markdown",
   "id": "be869435",
   "metadata": {},
   "source": [
    "### 2- Preprocesamiento para el Analisis de Datos"
   ]
  },
  {
   "cell_type": "code",
   "execution_count": 22,
   "id": "0185214e",
   "metadata": {},
   "outputs": [
    {
     "data": {
      "text/html": [
       "<div>\n",
       "<style scoped>\n",
       "    .dataframe tbody tr th:only-of-type {\n",
       "        vertical-align: middle;\n",
       "    }\n",
       "\n",
       "    .dataframe tbody tr th {\n",
       "        vertical-align: top;\n",
       "    }\n",
       "\n",
       "    .dataframe thead th {\n",
       "        text-align: right;\n",
       "    }\n",
       "</style>\n",
       "<table border=\"1\" class=\"dataframe\">\n",
       "  <thead>\n",
       "    <tr style=\"text-align: right;\">\n",
       "      <th></th>\n",
       "      <th>reviews.rating</th>\n",
       "      <th>reviews.numHelpful</th>\n",
       "      <th>categories</th>\n",
       "    </tr>\n",
       "  </thead>\n",
       "  <tbody>\n",
       "    <tr>\n",
       "      <th>0</th>\n",
       "      <td>5.0</td>\n",
       "      <td>0.0</td>\n",
       "      <td>Electronics,iPad &amp; Tablets,All Tablets,Fire Ta...</td>\n",
       "    </tr>\n",
       "    <tr>\n",
       "      <th>1</th>\n",
       "      <td>5.0</td>\n",
       "      <td>0.0</td>\n",
       "      <td>Electronics,iPad &amp; Tablets,All Tablets,Fire Ta...</td>\n",
       "    </tr>\n",
       "    <tr>\n",
       "      <th>2</th>\n",
       "      <td>5.0</td>\n",
       "      <td>0.0</td>\n",
       "      <td>Electronics,iPad &amp; Tablets,All Tablets,Fire Ta...</td>\n",
       "    </tr>\n",
       "    <tr>\n",
       "      <th>3</th>\n",
       "      <td>4.0</td>\n",
       "      <td>0.0</td>\n",
       "      <td>Electronics,iPad &amp; Tablets,All Tablets,Fire Ta...</td>\n",
       "    </tr>\n",
       "    <tr>\n",
       "      <th>4</th>\n",
       "      <td>5.0</td>\n",
       "      <td>0.0</td>\n",
       "      <td>Electronics,iPad &amp; Tablets,All Tablets,Fire Ta...</td>\n",
       "    </tr>\n",
       "  </tbody>\n",
       "</table>\n",
       "</div>"
      ],
      "text/plain": [
       "   reviews.rating  reviews.numHelpful  \\\n",
       "0             5.0                 0.0   \n",
       "1             5.0                 0.0   \n",
       "2             5.0                 0.0   \n",
       "3             4.0                 0.0   \n",
       "4             5.0                 0.0   \n",
       "\n",
       "                                          categories  \n",
       "0  Electronics,iPad & Tablets,All Tablets,Fire Ta...  \n",
       "1  Electronics,iPad & Tablets,All Tablets,Fire Ta...  \n",
       "2  Electronics,iPad & Tablets,All Tablets,Fire Ta...  \n",
       "3  Electronics,iPad & Tablets,All Tablets,Fire Ta...  \n",
       "4  Electronics,iPad & Tablets,All Tablets,Fire Ta...  "
      ]
     },
     "execution_count": 22,
     "metadata": {},
     "output_type": "execute_result"
    }
   ],
   "source": [
    "df_clean = df_amazon_products[['reviews.rating', 'reviews.numHelpful', 'categories']].dropna()\n",
    "df_clean = df_clean[df_clean['reviews.numHelpful'] >= 0] #Se mantiene solo las filas donde reviews.numHelpful >= 0\n",
    "df_clean.head()"
   ]
  },
  {
   "cell_type": "markdown",
   "id": "5ddcb9ea",
   "metadata": {},
   "source": [
    "### 3 - Normalizacion de variables, transformar los datos numericos para que este a su minima escala"
   ]
  },
  {
   "cell_type": "code",
   "execution_count": 23,
   "id": "b6e79298",
   "metadata": {},
   "outputs": [],
   "source": [
    "# standardscaler para escalar variables numericas\n",
    "from sklearn.preprocessing import StandardScaler\n",
    "\n",
    "# seleccionamos las columnas numéricas que vamos a estandarizar\n",
    "X = df_clean[['reviews.rating', 'reviews.numHelpful']] # reviews.numHelpful: número de votos que indican que una reseña fue útil\n",
    "\n",
    "# Creamos el objeto escalador que normalizará los datos\n",
    "scaler = StandardScaler()\n",
    "\n",
    "# Ajustamos el escalador a los datos (fit) y transformamos (transform)\n",
    "# Esto da como resultado un array donde cada columna tiene media 0 y desviación estándar 1\n",
    "X_scaled = scaler.fit_transform(X)\n"
   ]
  },
  {
   "cell_type": "code",
   "execution_count": 24,
   "id": "b955bee4",
   "metadata": {},
   "outputs": [
    {
     "data": {
      "text/plain": [
       "array([[ 0.56780151, -0.04768978],\n",
       "       [ 0.56780151, -0.04768978],\n",
       "       [ 0.56780151, -0.04768978],\n",
       "       [-0.80722568, -0.04768978],\n",
       "       [ 0.56780151, -0.04768978]])"
      ]
     },
     "execution_count": 24,
     "metadata": {},
     "output_type": "execute_result"
    }
   ],
   "source": [
    "# Mostramos las primeras 5 filas del array ya estandarizado.\n",
    "# Cada valor ahora representa el número de desviaciones estándar\n",
    "# que está por encima o por debajo de la media de su columna original.\n",
    "X_scaled[:5]"
   ]
  },
  {
   "cell_type": "markdown",
   "id": "b57e65f0",
   "metadata": {},
   "source": [
    "### 4 - Aplicar K-Means Clustering, agrupa datos al centro mas cercano, esto crea los clusters"
   ]
  },
  {
   "cell_type": "code",
   "execution_count": 28,
   "id": "228c9e2a",
   "metadata": {},
   "outputs": [],
   "source": [
    "# Importamos la librería warnings para gestionar advertencias\n",
    "import warnings\n",
    "\n",
    "# Ignoramos las advertencias de tipo UserWarning generadas por el módulo \"joblib\"\n",
    "# Esto se hace para evitar mensajes innecesarios, el de wmic \n",
    "warnings.filterwarnings(\"ignore\", category=UserWarning, module=\"joblib\")\n",
    "\n",
    "# Importamos el algoritmo de clustering K-means\n",
    "from sklearn.cluster import KMeans\n",
    "\n",
    "# Creamos el modelo K-means con:\n",
    "# - n_clusters=4 > número de grupos a formar\n",
    "# - random_state=42 > semilla para reproducibilidad de resultados\n",
    "kmeans = KMeans(n_clusters=4, random_state=42)\n",
    "\n",
    "# Ajustamos el modelo K-means a los datos estandarizados\n",
    "kmeans.fit(X_scaled)\n",
    "\n",
    "# Agregamos una nueva columna 'cluster' al DataFrame original con la etiqueta de grupo asignada a cada fila\n",
    "df_clean['cluster'] = kmeans.labels_"
   ]
  },
  {
   "cell_type": "code",
   "execution_count": 29,
   "id": "d2fa8e5e",
   "metadata": {},
   "outputs": [
    {
     "data": {
      "text/html": [
       "<div>\n",
       "<style scoped>\n",
       "    .dataframe tbody tr th:only-of-type {\n",
       "        vertical-align: middle;\n",
       "    }\n",
       "\n",
       "    .dataframe tbody tr th {\n",
       "        vertical-align: top;\n",
       "    }\n",
       "\n",
       "    .dataframe thead th {\n",
       "        text-align: right;\n",
       "    }\n",
       "</style>\n",
       "<table border=\"1\" class=\"dataframe\">\n",
       "  <thead>\n",
       "    <tr style=\"text-align: right;\">\n",
       "      <th></th>\n",
       "      <th>reviews.rating</th>\n",
       "      <th>reviews.numHelpful</th>\n",
       "      <th>cluster</th>\n",
       "    </tr>\n",
       "  </thead>\n",
       "  <tbody>\n",
       "    <tr>\n",
       "      <th>0</th>\n",
       "      <td>5.0</td>\n",
       "      <td>0.0</td>\n",
       "      <td>0</td>\n",
       "    </tr>\n",
       "    <tr>\n",
       "      <th>1</th>\n",
       "      <td>5.0</td>\n",
       "      <td>0.0</td>\n",
       "      <td>0</td>\n",
       "    </tr>\n",
       "    <tr>\n",
       "      <th>2</th>\n",
       "      <td>5.0</td>\n",
       "      <td>0.0</td>\n",
       "      <td>0</td>\n",
       "    </tr>\n",
       "    <tr>\n",
       "      <th>3</th>\n",
       "      <td>4.0</td>\n",
       "      <td>0.0</td>\n",
       "      <td>1</td>\n",
       "    </tr>\n",
       "    <tr>\n",
       "      <th>4</th>\n",
       "      <td>5.0</td>\n",
       "      <td>0.0</td>\n",
       "      <td>0</td>\n",
       "    </tr>\n",
       "  </tbody>\n",
       "</table>\n",
       "</div>"
      ],
      "text/plain": [
       "   reviews.rating  reviews.numHelpful  cluster\n",
       "0             5.0                 0.0        0\n",
       "1             5.0                 0.0        0\n",
       "2             5.0                 0.0        0\n",
       "3             4.0                 0.0        1\n",
       "4             5.0                 0.0        0"
      ]
     },
     "execution_count": 29,
     "metadata": {},
     "output_type": "execute_result"
    }
   ],
   "source": [
    "df_clean[['reviews.rating', 'reviews.numHelpful', 'cluster']].head()"
   ]
  },
  {
   "cell_type": "markdown",
   "id": "d5466e1b",
   "metadata": {},
   "source": [
    "### 5 - Visualización con PCA, metodo que reduce dimenciones a solo 2 para poder dibujarlos en un plano"
   ]
  },
  {
   "cell_type": "code",
   "execution_count": 30,
   "id": "27528bc0",
   "metadata": {},
   "outputs": [
    {
     "data": {
      "image/png": "[encoded data removed]",
      "text/plain": [
       "<Figure size 1000x600 with 1 Axes>"
      ]
     },
     "metadata": {},
     "output_type": "display_data"
    }
   ],
   "source": [
    "# Importamos PCA para reducción de dimensionalidad\n",
    "from sklearn.decomposition import PCA\n",
    "# Importamos seaborn para visualización estadística\n",
    "import seaborn as sns\n",
    "# Importamos matplotlib para gráficos\n",
    "import matplotlib.pyplot as plt\n",
    "\n",
    "# Creamos el objeto PCA para reducir los datos a 2 dimensiones (componentes principales)\n",
    "pca = PCA(n_components=2)\n",
    "# Ajustamos el PCA a los datos estandarizados y transformamos\n",
    "pca_result = pca.fit_transform(X_scaled)\n",
    "\n",
    "# Agregamos las dos nuevas columnas resultantes al DataFrame\n",
    "df_clean['pca1'] = pca_result[:, 0]  # Primer componente principal\n",
    "df_clean['pca2'] = pca_result[:, 1]  # Segundo componente principal\n",
    "\n",
    "plt.figure(figsize=(10, 6))  # Definimos tamaño del gráfico\n",
    "# Dibujamos un scatterplot (dispersión) con las dos componentes principales\n",
    "# Coloreamos los puntos según el cluster asignado\n",
    "sns.scatterplot(data=df_clean, x='pca1', y='pca2', hue='cluster', palette='tab10')\n",
    "\n",
    "# Título del gráfico\n",
    "plt.title(\"Clustering de Productos Amazon por Calificación y Reseñas Útiles\")\n",
    "plt.show()\n"
   ]
  },
  {
   "cell_type": "markdown",
   "id": "2115437d",
   "metadata": {},
   "source": [
    "### 6 -  Interpretar resultados, que significa cada grupo"
   ]
  },
  {
   "cell_type": "markdown",
   "id": "61f7fd46",
   "metadata": {},
   "source": [
    "#### ver los promedios por cluster\n"
   ]
  },
  {
   "cell_type": "code",
   "execution_count": 31,
   "id": "439607e3",
   "metadata": {},
   "outputs": [
    {
     "data": {
      "text/html": [
       "<div>\n",
       "<style scoped>\n",
       "    .dataframe tbody tr th:only-of-type {\n",
       "        vertical-align: middle;\n",
       "    }\n",
       "\n",
       "    .dataframe tbody tr th {\n",
       "        vertical-align: top;\n",
       "    }\n",
       "\n",
       "    .dataframe thead th {\n",
       "        text-align: right;\n",
       "    }\n",
       "</style>\n",
       "<table border=\"1\" class=\"dataframe\">\n",
       "  <thead>\n",
       "    <tr style=\"text-align: right;\">\n",
       "      <th></th>\n",
       "      <th>reviews.rating</th>\n",
       "      <th>reviews.numHelpful</th>\n",
       "    </tr>\n",
       "    <tr>\n",
       "      <th>cluster</th>\n",
       "      <th></th>\n",
       "      <th></th>\n",
       "    </tr>\n",
       "  </thead>\n",
       "  <tbody>\n",
       "    <tr>\n",
       "      <th>0</th>\n",
       "      <td>5.000000</td>\n",
       "      <td>0.268575</td>\n",
       "    </tr>\n",
       "    <tr>\n",
       "      <th>1</th>\n",
       "      <td>4.000000</td>\n",
       "      <td>0.326844</td>\n",
       "    </tr>\n",
       "    <tr>\n",
       "      <th>2</th>\n",
       "      <td>4.333333</td>\n",
       "      <td>611.833333</td>\n",
       "    </tr>\n",
       "    <tr>\n",
       "      <th>3</th>\n",
       "      <td>2.493971</td>\n",
       "      <td>2.283609</td>\n",
       "    </tr>\n",
       "  </tbody>\n",
       "</table>\n",
       "</div>"
      ],
      "text/plain": [
       "         reviews.rating  reviews.numHelpful\n",
       "cluster                                    \n",
       "0              5.000000            0.268575\n",
       "1              4.000000            0.326844\n",
       "2              4.333333          611.833333\n",
       "3              2.493971            2.283609"
      ]
     },
     "execution_count": 31,
     "metadata": {},
     "output_type": "execute_result"
    }
   ],
   "source": [
    "df_clean.groupby('cluster')[['reviews.rating', 'reviews.numHelpful']].mean()"
   ]
  },
  {
   "cell_type": "markdown",
   "id": "232a28b6",
   "metadata": {},
   "source": [
    "####  Analisis por categoria\n"
   ]
  },
  {
   "cell_type": "code",
   "execution_count": 32,
   "id": "5c96988d",
   "metadata": {},
   "outputs": [],
   "source": [
    "# Creamos una nueva columna 'main_category' a partir de la columna 'categories'\n",
    "# Usamos .apply() para aplicar una función a cada fila:\n",
    "# - Si categories es una cadena, separamos el texto por comas y tomamos el primer elemento > categoría principal\n",
    "# - Si no es una cadena (valores nulos u otro tipo), asignamos Unknown\n",
    "df_clean['main_category'] = df_clean['categories'].apply(\n",
    "    lambda x: x.split(\",\")[0] if isinstance(x, str) else \"Unknown\"\n",
    ")"
   ]
  },
  {
   "cell_type": "code",
   "execution_count": 33,
   "id": "37a9afb6",
   "metadata": {},
   "outputs": [
    {
     "data": {
      "text/plain": [
       "cluster                 \n",
       "0        Fire Tablets       6681\n",
       "         Stereos            4879\n",
       "         Back To College    3898\n",
       "1        Fire Tablets       3520\n",
       "         Stereos            1408\n",
       "         Back To College     945\n",
       "2        Electronics           6\n",
       "         Back To College       3\n",
       "         Featured Brands       2\n",
       "3        Fire Tablets       1042\n",
       "         Stereos             321\n",
       "         Back To College     210\n",
       "Name: main_category, dtype: int64"
      ]
     },
     "execution_count": 33,
     "metadata": {},
     "output_type": "execute_result"
    }
   ],
   "source": [
    "# Ver las 3 categorías más comunes por cluster\n",
    "df_clean.groupby('cluster')['main_category'].apply(lambda x: x.value_counts().head(3))"
   ]
  },
  {
   "cell_type": "markdown",
   "id": "deb762ac-3957-4739-90a6-cf1329b0f52d",
   "metadata": {},
   "source": [
    "## 7- Elbow Method"
   ]
  },
  {
   "cell_type": "markdown",
   "id": "cfc42acf-4e4d-4d39-bdea-68c1ca8f7c50",
   "metadata": {},
   "source": [
    "El método del codo (en inglés, elbow method) es una heurística utilizada en el análisis de agrupamiento, especialmente con algoritmos como K-means, para determinar el número óptimo de clústeres en un conjunto de datos. Se visualiza el gráfico de la suma de cuadrados dentro del clúster (WCSS) en función del número de clústeres y se elige el punto donde la disminución de WCSS comienza a ser menos pronunciada, formando una especie de \"codo\". "
   ]
  },
  {
   "cell_type": "code",
   "execution_count": 36,
   "id": "561d5471-e93a-4c3c-8e54-a1bf919e0aa9",
   "metadata": {},
   "outputs": [
    {
     "data": {
      "image/png": "[encoded data removed]",
      "text/plain": [
       "<Figure size 640x480 with 1 Axes>"
      ]
     },
     "metadata": {},
     "output_type": "display_data"
    }
   ],
   "source": [
    "inertia = []\n",
    "\n",
    "# Probamos valores de k desde 1 hasta 9\n",
    "for k in range(1, 10):\n",
    "    # Creamos el modelo KMeans con k clusters\n",
    "    km = KMeans(n_clusters=k, random_state=42)\n",
    "    # Ajustamos el modelo a los datos escalados\n",
    "    km.fit(X_scaled)\n",
    "    # Guardamos la inercia (medida de compactación de los clusters)\n",
    "    inertia.append(km.inertia_)\n",
    "\n",
    "# --- Visualización del Método del Codo ---\n",
    "plt.plot(range(1, 10), inertia, marker='o')\n",
    "plt.title('Método del Codo para elegir K')\n",
    "plt.xlabel('Número de Clusters')\n",
    "plt.ylabel('Inercia')\n",
    "plt.show()"
   ]
  }
 ],
 "metadata": {
  "kernelspec": {
   "display_name": "Python 3 (ipykernel)",
   "language": "python",
   "name": "python3"
  },
  "language_info": {
   "codemirror_mode": {
    "name": "ipython",
    "version": 3
   },
   "file_extension": ".py",
   "mimetype": "text/x-python",
   "name": "python",
   "nbconvert_exporter": "python",
   "pygments_lexer": "ipython3",
   "version": "3.12.3"
  }
 },
 "nbformat": 4,
 "nbformat_minor": 5
}
